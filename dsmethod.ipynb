{
  "nbformat": 4,
  "nbformat_minor": 0,
  "metadata": {
    "colab": {
      "provenance": [],
      "authorship_tag": "ABX9TyMqQ5B/9SGjqJLPaoP9eO3o",
      "include_colab_link": true
    },
    "kernelspec": {
      "name": "python3",
      "display_name": "Python 3"
    },
    "language_info": {
      "name": "python"
    }
  },
  "cells": [
    {
      "cell_type": "markdown",
      "metadata": {
        "id": "view-in-github",
        "colab_type": "text"
      },
      "source": [
        "<a href=\"https://colab.research.google.com/github/ds2025-col/dsmethod/blob/main/dsmethod.ipynb\" target=\"_parent\"><img src=\"https://colab.research.google.com/assets/colab-badge.svg\" alt=\"Open In Colab\"/></a>"
      ]
    },
    {
      "cell_type": "code",
      "execution_count": null,
      "metadata": {
        "colab": {
          "base_uri": "https://localhost:8080/"
        },
        "id": "MroFcyyGlxS9",
        "outputId": "0d23f420-6cfe-42d2-f774-4d8458531f60"
      },
      "outputs": [
        {
          "output_type": "stream",
          "name": "stdout",
          "text": [
            "(1, 2, 'ann')\n",
            "(1, 2)\n"
          ]
        }
      ],
      "source": [
        "a=(1,2,'ann')\n",
        "print(a)\n",
        "print(a[-3:-1])"
      ]
    },
    {
      "cell_type": "code",
      "source": [
        "a=(1,2,4)\n",
        "del a  #delete\n"
      ],
      "metadata": {
        "id": "d5tiGWPym11r"
      },
      "execution_count": null,
      "outputs": []
    },
    {
      "cell_type": "code",
      "source": [],
      "metadata": {
        "id": "HpncTEn7om7D"
      },
      "execution_count": null,
      "outputs": []
    },
    {
      "cell_type": "markdown",
      "source": [
        "**SET**\n"
      ],
      "metadata": {
        "id": "BQp2sJjeo7FM"
      }
    },
    {
      "cell_type": "code",
      "source": [
        "a={1,2,3,4}\n",
        "b={1,5,9,8}\n",
        "print(a.union(b))\n",
        "print(a.intersection(b))"
      ],
      "metadata": {
        "colab": {
          "base_uri": "https://localhost:8080/"
        },
        "id": "z009eQQSpLQd",
        "outputId": "e696abc8-c8ed-45d5-a0d8-4123a3e0b5c3"
      },
      "execution_count": null,
      "outputs": [
        {
          "output_type": "stream",
          "name": "stdout",
          "text": [
            "{1, 2, 3, 4, 5, 8, 9}\n",
            "{1}\n"
          ]
        }
      ]
    },
    {
      "cell_type": "code",
      "source": [
        "a.difference(b)\n"
      ],
      "metadata": {
        "colab": {
          "base_uri": "https://localhost:8080/"
        },
        "id": "vsWjDvdprukF",
        "outputId": "09f64acb-1f5d-41a3-a09c-010bfb4a2c09"
      },
      "execution_count": null,
      "outputs": [
        {
          "output_type": "execute_result",
          "data": {
            "text/plain": [
              "{2, 3, 4}"
            ]
          },
          "metadata": {},
          "execution_count": 13
        }
      ]
    },
    {
      "cell_type": "code",
      "source": [
        "a.update(b)\n",
        "print(a)"
      ],
      "metadata": {
        "colab": {
          "base_uri": "https://localhost:8080/"
        },
        "id": "5XeJM0rZrNch",
        "outputId": "30e34d94-e522-4670-be9b-88fcf95b6326"
      },
      "execution_count": null,
      "outputs": [
        {
          "output_type": "stream",
          "name": "stdout",
          "text": [
            "{1, 2, 3, 4, 5, 8, 9}\n"
          ]
        }
      ]
    },
    {
      "cell_type": "code",
      "source": [
        "a.add(7)\n",
        "print(a)"
      ],
      "metadata": {
        "colab": {
          "base_uri": "https://localhost:8080/"
        },
        "id": "5elcK51JsL3w",
        "outputId": "318f2f6c-1bbc-4cfa-f434-403d5b7eac2b"
      },
      "execution_count": null,
      "outputs": [
        {
          "output_type": "stream",
          "name": "stdout",
          "text": [
            "{1, 2, 3, 4, 5, 7, 8, 9}\n"
          ]
        }
      ]
    },
    {
      "cell_type": "code",
      "source": [
        "a.issubset(b)\n",
        "print(a.issubset(b))"
      ],
      "metadata": {
        "colab": {
          "base_uri": "https://localhost:8080/"
        },
        "id": "8onA_zarsyZQ",
        "outputId": "de7a501c-5058-4336-b4c6-c45b006ad11b"
      },
      "execution_count": null,
      "outputs": [
        {
          "output_type": "stream",
          "name": "stdout",
          "text": [
            "False\n"
          ]
        }
      ]
    },
    {
      "cell_type": "code",
      "source": [
        "a.issuperset(b)\n",
        "print(a.issuperset(b))"
      ],
      "metadata": {
        "colab": {
          "base_uri": "https://localhost:8080/"
        },
        "id": "P-hCrCRxtbJ-",
        "outputId": "2c4ca811-46ef-400b-a944-55bf44ebe958"
      },
      "execution_count": null,
      "outputs": [
        {
          "output_type": "stream",
          "name": "stdout",
          "text": [
            "True\n"
          ]
        }
      ]
    },
    {
      "cell_type": "code",
      "source": [
        "a={1,2,3,4}\n",
        "a.remove(4)\n",
        "print(a)\n",
        "print(a.pop())\n",
        "print(a)"
      ],
      "metadata": {
        "colab": {
          "base_uri": "https://localhost:8080/"
        },
        "id": "CB5qQk3auhPi",
        "outputId": "a698596e-cd1c-4531-d511-ed59e4090ee5"
      },
      "execution_count": null,
      "outputs": [
        {
          "output_type": "stream",
          "name": "stdout",
          "text": [
            "{1, 2, 3}\n",
            "1\n",
            "{2, 3}\n"
          ]
        }
      ]
    },
    {
      "cell_type": "markdown",
      "source": [
        "**DICTIONARY**"
      ],
      "metadata": {
        "id": "OWaZBxF-yt_a"
      }
    },
    {
      "cell_type": "code",
      "source": [
        "X={'NAME':'ANN','AGE':12,'PLACE':'PMMNA'}\n",
        "print(X['NAME'])"
      ],
      "metadata": {
        "colab": {
          "base_uri": "https://localhost:8080/"
        },
        "id": "PRUnKOTdy4ym",
        "outputId": "a0910c11-9fca-4f1a-ad84-5590218f0907"
      },
      "execution_count": null,
      "outputs": [
        {
          "output_type": "stream",
          "name": "stdout",
          "text": [
            "ANN\n"
          ]
        }
      ]
    },
    {
      "cell_type": "code",
      "source": [
        "X['NAME']='ANU' #REPLACE\n",
        "print(X)"
      ],
      "metadata": {
        "colab": {
          "base_uri": "https://localhost:8080/"
        },
        "id": "WxNVYYJm3UCY",
        "outputId": "9445bcd7-ae92-4119-91f9-44512fc0f875"
      },
      "execution_count": null,
      "outputs": [
        {
          "output_type": "stream",
          "name": "stdout",
          "text": [
            "{'NAME': 'ANU', 'AGE': 12, 'PLACE': 'PMMNA'}\n"
          ]
        }
      ]
    },
    {
      "cell_type": "code",
      "source": [
        "print(X.get('PLACE'))"
      ],
      "metadata": {
        "colab": {
          "base_uri": "https://localhost:8080/"
        },
        "id": "7jsl4K8R3E6W",
        "outputId": "30832168-4794-4161-e9e6-e9513a4c59ad"
      },
      "execution_count": null,
      "outputs": [
        {
          "output_type": "stream",
          "name": "stdout",
          "text": [
            "PMMNA\n"
          ]
        }
      ]
    },
    {
      "cell_type": "code",
      "source": [
        "Y={'rollno' :20}\n",
        "print(X.update(Y))\n",
        "print(X)"
      ],
      "metadata": {
        "colab": {
          "base_uri": "https://localhost:8080/"
        },
        "id": "O_En-xk15Z8K",
        "outputId": "766972e2-8f0c-4ef6-f509-4cf49efa0966"
      },
      "execution_count": null,
      "outputs": [
        {
          "output_type": "stream",
          "name": "stdout",
          "text": [
            "None\n",
            "{'NAME': 'ANU', 'AGE': 12, 'PLACE': 'PMMNA', 'ANNA': 20, 'KKV': 15, 'rollno': 20}\n"
          ]
        }
      ]
    },
    {
      "cell_type": "code",
      "source": [
        "print(X.keys())"
      ],
      "metadata": {
        "colab": {
          "base_uri": "https://localhost:8080/"
        },
        "id": "E0hNrf2r6mMQ",
        "outputId": "74ae7644-e4bc-430e-bb25-b048cfb1edda"
      },
      "execution_count": null,
      "outputs": [
        {
          "output_type": "stream",
          "name": "stdout",
          "text": [
            "dict_keys(['NAME', 'AGE', 'PLACE', 'ANNA', 'KKV'])\n"
          ]
        }
      ]
    },
    {
      "cell_type": "code",
      "source": [
        "X.values()"
      ],
      "metadata": {
        "colab": {
          "base_uri": "https://localhost:8080/"
        },
        "id": "eeCClUkC64hU",
        "outputId": "4378c676-5701-49c3-fc60-ddfc74405975"
      },
      "execution_count": null,
      "outputs": [
        {
          "output_type": "execute_result",
          "data": {
            "text/plain": [
              "dict_values(['ANU', 12, 'PMMNA', 20, 15])"
            ]
          },
          "metadata": {},
          "execution_count": 41
        }
      ]
    },
    {
      "cell_type": "code",
      "source": [
        "print(X.pop('ANNA'))\n",
        "print(X)\n"
      ],
      "metadata": {
        "colab": {
          "base_uri": "https://localhost:8080/"
        },
        "id": "sjGZDzjO9vhS",
        "outputId": "970de283-6edc-4358-f4e6-121d5932eff1"
      },
      "execution_count": null,
      "outputs": [
        {
          "output_type": "stream",
          "name": "stdout",
          "text": [
            "20\n",
            "{'NAME': 'ANU', 'AGE': 12, 'PLACE': 'PMMNA', 'rollno': 20}\n"
          ]
        }
      ]
    },
    {
      "cell_type": "code",
      "source": [
        "print(X.clear())\n",
        "print(X)"
      ],
      "metadata": {
        "colab": {
          "base_uri": "https://localhost:8080/"
        },
        "id": "UY3IU9pOPcQt",
        "outputId": "c6555c24-ee55-45bd-eb90-d2159f4364f8"
      },
      "execution_count": null,
      "outputs": [
        {
          "output_type": "stream",
          "name": "stdout",
          "text": [
            "None\n",
            "{}\n"
          ]
        }
      ]
    },
    {
      "cell_type": "code",
      "source": [
        "X={'NAME':'ANN','AGE':12,'PLACE':'PMMNA'}\n",
        "print(X.pop('NAME'))\n",
        "print(X)"
      ],
      "metadata": {
        "colab": {
          "base_uri": "https://localhost:8080/"
        },
        "id": "wwOgBkNxRLjU",
        "outputId": "33ad0527-e617-48cf-b3ae-9d43638ddc3b"
      },
      "execution_count": null,
      "outputs": [
        {
          "output_type": "stream",
          "name": "stdout",
          "text": [
            "ANN\n",
            "{'AGE': 12, 'PLACE': 'PMMNA'}\n"
          ]
        }
      ]
    },
    {
      "cell_type": "code",
      "source": [
        "from collections import OrderedDict\n",
        "\n",
        "X = OrderedDict([('AGE', 12), ('PLACE', 'PMMNA')])             # Convert to OrderedDict\n",
        "X.update({'name':'ra'})\n",
        "X.move_to_end('name', last=False)                               # Now move_to_end works\n",
        "print(X)\n"
      ],
      "metadata": {
        "colab": {
          "base_uri": "https://localhost:8080/"
        },
        "id": "tobQTYO9TOF4",
        "outputId": "5de66ea0-d7d8-48f9-84be-879ab5aef692"
      },
      "execution_count": null,
      "outputs": [
        {
          "output_type": "stream",
          "name": "stdout",
          "text": [
            "OrderedDict([('name', 'ra'), ('AGE', 12), ('PLACE', 'PMMNA')])\n"
          ]
        }
      ]
    },
    {
      "cell_type": "code",
      "source": [],
      "metadata": {
        "id": "qqvotpCfTNus"
      },
      "execution_count": null,
      "outputs": []
    },
    {
      "cell_type": "markdown",
      "source": [
        "**string**"
      ],
      "metadata": {
        "id": "WlG-jOPHXDa-"
      }
    },
    {
      "cell_type": "code",
      "source": [
        "a='hallo world'  #string\n",
        "print(a)\n",
        "print(a[2:8])"
      ],
      "metadata": {
        "colab": {
          "base_uri": "https://localhost:8080/"
        },
        "id": "qppqMGHNWXAy",
        "outputId": "df327f20-b99c-4ac6-f24d-099a9cdb1e63"
      },
      "execution_count": null,
      "outputs": [
        {
          "output_type": "stream",
          "name": "stdout",
          "text": [
            "hallo world\n",
            "llo wo\n"
          ]
        }
      ]
    },
    {
      "cell_type": "code",
      "source": [
        "x={'name':'raju','age': 10}\n",
        "y=[]\n",
        "for i in x:\n",
        "  y.append(i)\n",
        "print(y)"
      ],
      "metadata": {
        "colab": {
          "base_uri": "https://localhost:8080/"
        },
        "id": "-fjFp9MZ_BPu",
        "outputId": "c841ccf0-231d-4f19-a10c-74ab2f3ef73c"
      },
      "execution_count": null,
      "outputs": [
        {
          "output_type": "stream",
          "name": "stdout",
          "text": [
            "['name', 'age']\n"
          ]
        }
      ]
    }
  ]
}